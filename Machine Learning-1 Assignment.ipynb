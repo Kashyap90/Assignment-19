{
 "cells": [
  {
   "cell_type": "code",
   "execution_count": 1,
   "metadata": {},
   "outputs": [],
   "source": [
    "# 1. What are the three stages to build the hypotheses or model in machine learning? "
   ]
  },
  {
   "cell_type": "code",
   "execution_count": 2,
   "metadata": {},
   "outputs": [],
   "source": [
    "# The three stages to build the model in machine learning are:\n",
    "\n",
    "# 1. Model Building: Model Building involves in Data preparation, Traning set generation and Test set generation, and also\n",
    "# indulge in Algorithm training.\n",
    "\n",
    "# 2. Model Testing: Model testing involves in prediction and evaluation of Test data.\n",
    "\n",
    "# 3. Applying the model: It deals with the Deployment of data set and Monitoring the data."
   ]
  },
  {
   "cell_type": "code",
   "execution_count": 3,
   "metadata": {},
   "outputs": [],
   "source": [
    "#2. What is the standard approach to supervised learning? "
   ]
  },
  {
   "cell_type": "code",
   "execution_count": 4,
   "metadata": {},
   "outputs": [],
   "source": [
    "# Ans: The standard approach to supervised learning is to split the set of example into the training set and the test."
   ]
  },
  {
   "cell_type": "code",
   "execution_count": 5,
   "metadata": {},
   "outputs": [],
   "source": [
    "# 3. What is Training set and Test set? "
   ]
  },
  {
   "cell_type": "code",
   "execution_count": 6,
   "metadata": {},
   "outputs": [],
   "source": [
    "# 1. Training set:\n",
    "\n",
    "# Training set is a data set used to train the model.\n",
    "\n",
    "# Specific features are picked up from the training set for training purpose."
   ]
  },
  {
   "cell_type": "code",
   "execution_count": 7,
   "metadata": {},
   "outputs": [],
   "source": [
    "# 2. Test set:\n",
    "\n",
    "# Test set is a data set used to measure how well the model performs at making predictions on the test based on \n",
    "# the training."
   ]
  },
  {
   "cell_type": "code",
   "execution_count": 8,
   "metadata": {},
   "outputs": [],
   "source": [
    "# 4. What is the general principle of an ensemble method and what is bagging and boosting in ensemble method? "
   ]
  },
  {
   "cell_type": "code",
   "execution_count": 9,
   "metadata": {},
   "outputs": [],
   "source": [
    "# Ans: Ensemble learning is used when you build component classifiers that are more accurate and independent from each other.\n",
    "\n",
    "# The general principle of an ensemble method is to combine the predictions of several models built with a given learning \n",
    "# algorithm in order to improve robustness over a single model.Bagging is a method in ensemble for improving unstable\n",
    "# estimation or classification schemes.\n",
    "# While boosting method are used sequentially to reduce the bias of the combined model. Boosting and Bagging both can reduce \n",
    "# errors by reducing the variance term."
   ]
  },
  {
   "cell_type": "code",
   "execution_count": 10,
   "metadata": {},
   "outputs": [],
   "source": [
    "# 5.  How can you avoid overfitting ? "
   ]
  },
  {
   "cell_type": "code",
   "execution_count": null,
   "metadata": {},
   "outputs": [],
   "source": [
    "# Ans: The possibility of over-fitting exists as the criteria used for training the model is not same as the criteria used to\n",
    "#      judge the efficacy of a model.\n",
    "\n",
    "# By using a lot of data over-fiiting can be avoided, over-fitting happens relatively as you have a small dataset, and you try to\n",
    "# learn from it. But if you have a small database and you are forced to come with a model based on that,in such situations you \n",
    "# can use a technique known as cross validation.\n",
    "\n",
    "# In this metod the dataset splits into two section, testing and training datasets. The testing dataset will only test the model\n",
    "# while in training dataset, the data points will come up with the model.\n",
    "\n",
    "# In this technique, a model is usually given a dataset of a known data on which training(training data set) is run and a \n",
    "# dataset of unknown data against which the model is tested. The idea of cross validation is to define a dataset to \"test\" the\n",
    "# model in the training phase."
   ]
  }
 ],
 "metadata": {
  "kernelspec": {
   "display_name": "Python 3",
   "language": "python",
   "name": "python3"
  },
  "language_info": {
   "codemirror_mode": {
    "name": "ipython",
    "version": 3
   },
   "file_extension": ".py",
   "mimetype": "text/x-python",
   "name": "python",
   "nbconvert_exporter": "python",
   "pygments_lexer": "ipython3",
   "version": "3.6.6"
  }
 },
 "nbformat": 4,
 "nbformat_minor": 2
}
